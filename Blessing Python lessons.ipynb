{
 "cells": [
  {
   "cell_type": "code",
   "execution_count": 1,
   "id": "d2b1981b",
   "metadata": {},
   "outputs": [
    {
     "data": {
      "text/plain": [
       "2400"
      ]
     },
     "execution_count": 1,
     "metadata": {},
     "output_type": "execute_result"
    }
   ],
   "source": [
    "2000+400"
   ]
  },
  {
   "cell_type": "markdown",
   "id": "6e5706a9",
   "metadata": {},
   "source": [
    "# First python codes"
   ]
  },
  {
   "cell_type": "code",
   "execution_count": 2,
   "id": "92324e92",
   "metadata": {},
   "outputs": [
    {
     "data": {
      "text/plain": [
       "'hello blessing, welcome to python'"
      ]
     },
     "execution_count": 2,
     "metadata": {},
     "output_type": "execute_result"
    }
   ],
   "source": [
    "'hello blessing, welcome to python'"
   ]
  },
  {
   "cell_type": "code",
   "execution_count": 3,
   "id": "fae837cf",
   "metadata": {},
   "outputs": [
    {
     "data": {
      "text/plain": [
       "'ayo+blessing'"
      ]
     },
     "execution_count": 3,
     "metadata": {},
     "output_type": "execute_result"
    }
   ],
   "source": [
    "'ayo+blessing'"
   ]
  },
  {
   "cell_type": "code",
   "execution_count": 6,
   "id": "5cf4cc8c",
   "metadata": {},
   "outputs": [],
   "source": [
    "name = 'blessing onyii' "
   ]
  },
  {
   "cell_type": "code",
   "execution_count": 7,
   "id": "bed38cf6",
   "metadata": {},
   "outputs": [
    {
     "data": {
      "text/plain": [
       "'blessing onyii'"
      ]
     },
     "execution_count": 7,
     "metadata": {},
     "output_type": "execute_result"
    }
   ],
   "source": [
    "name"
   ]
  },
  {
   "cell_type": "code",
   "execution_count": 8,
   "id": "15156340",
   "metadata": {},
   "outputs": [],
   "source": [
    "x = 2\n",
    "y = 5"
   ]
  },
  {
   "cell_type": "code",
   "execution_count": 10,
   "id": "3717af84",
   "metadata": {},
   "outputs": [
    {
     "data": {
      "text/plain": [
       "7"
      ]
     },
     "execution_count": 10,
     "metadata": {},
     "output_type": "execute_result"
    }
   ],
   "source": [
    "answer = x+y\n",
    "answer"
   ]
  },
  {
   "cell_type": "markdown",
   "id": "c8125176",
   "metadata": {},
   "source": [
    "# List\n"
   ]
  },
  {
   "cell_type": "code",
   "execution_count": 12,
   "id": "b99e9f2b",
   "metadata": {
    "scrolled": true
   },
   "outputs": [
    {
     "data": {
      "text/plain": [
       "['apple, banana, watermelon, pineapple']"
      ]
     },
     "execution_count": 12,
     "metadata": {},
     "output_type": "execute_result"
    }
   ],
   "source": [
    "fruits = ['apple, banana, watermelon, pineapple']\n",
    "fruits"
   ]
  },
  {
   "cell_type": "code",
   "execution_count": 13,
   "id": "fbc7a428",
   "metadata": {},
   "outputs": [
    {
     "data": {
      "text/plain": [
       "[1, 2, 3]"
      ]
     },
     "execution_count": 13,
     "metadata": {},
     "output_type": "execute_result"
    }
   ],
   "source": [
    "[1,2,3]"
   ]
  },
  {
   "cell_type": "code",
   "execution_count": 15,
   "id": "88ad2ad7",
   "metadata": {},
   "outputs": [
    {
     "data": {
      "text/plain": [
       "['hi', 1, 2, 3]"
      ]
     },
     "execution_count": 15,
     "metadata": {},
     "output_type": "execute_result"
    }
   ],
   "source": [
    "['hi', 1,2,3]"
   ]
  },
  {
   "cell_type": "code",
   "execution_count": 78,
   "id": "6aabfb17",
   "metadata": {},
   "outputs": [],
   "source": [
    "my_list = ['a','b','c']"
   ]
  },
  {
   "cell_type": "code",
   "execution_count": 79,
   "id": "4954363e",
   "metadata": {},
   "outputs": [],
   "source": [
    "my_list.insert(1, 'd')"
   ]
  },
  {
   "cell_type": "code",
   "execution_count": 80,
   "id": "f7dc7d35",
   "metadata": {},
   "outputs": [
    {
     "data": {
      "text/plain": [
       "['a', 'd', 'b', 'c']"
      ]
     },
     "execution_count": 80,
     "metadata": {},
     "output_type": "execute_result"
    }
   ],
   "source": [
    "my_list"
   ]
  },
  {
   "cell_type": "code",
   "execution_count": 82,
   "id": "e5980239",
   "metadata": {},
   "outputs": [
    {
     "data": {
      "text/plain": [
       "['a', 'd', 'b', 'c', 'd', 'd']"
      ]
     },
     "execution_count": 82,
     "metadata": {},
     "output_type": "execute_result"
    }
   ],
   "source": [
    "my_list.append('d')\n",
    "my_list"
   ]
  },
  {
   "cell_type": "markdown",
   "id": "af9ed972",
   "metadata": {},
   "source": [
    "# slicers"
   ]
  },
  {
   "cell_type": "code",
   "execution_count": 13,
   "id": "399dbbbe",
   "metadata": {},
   "outputs": [
    {
     "data": {
      "text/plain": [
       "['apple, banana, watermelon, pineapple']"
      ]
     },
     "execution_count": 13,
     "metadata": {},
     "output_type": "execute_result"
    }
   ],
   "source": [
    "fruits "
   ]
  },
  {
   "cell_type": "code",
   "execution_count": 16,
   "id": "505f2c43",
   "metadata": {},
   "outputs": [
    {
     "data": {
      "text/plain": [
       "'apple, banana, watermelon, pineapple'"
      ]
     },
     "execution_count": 16,
     "metadata": {},
     "output_type": "execute_result"
    }
   ],
   "source": [
    "fruits[0]"
   ]
  },
  {
   "cell_type": "code",
   "execution_count": 18,
   "id": "c6a98717",
   "metadata": {},
   "outputs": [
    {
     "data": {
      "text/plain": [
       "'apple, banana, watermelon, pineapple'"
      ]
     },
     "execution_count": 18,
     "metadata": {},
     "output_type": "execute_result"
    }
   ],
   "source": [
    "fruits [0]"
   ]
  },
  {
   "cell_type": "code",
   "execution_count": 19,
   "id": "b39c0ed0",
   "metadata": {},
   "outputs": [
    {
     "data": {
      "text/plain": [
       "'apple, banana, watermelon, pineapple'"
      ]
     },
     "execution_count": 19,
     "metadata": {},
     "output_type": "execute_result"
    }
   ],
   "source": [
    "fruits[-1]"
   ]
  },
  {
   "cell_type": "code",
   "execution_count": 3,
   "id": "6ed117a3",
   "metadata": {},
   "outputs": [
    {
     "data": {
      "text/plain": [
       "[0]"
      ]
     },
     "execution_count": 3,
     "metadata": {},
     "output_type": "execute_result"
    }
   ],
   "source": [
    "fruits = [0]\n",
    "fruits"
   ]
  },
  {
   "cell_type": "code",
   "execution_count": 7,
   "id": "e79146b2",
   "metadata": {
    "scrolled": true
   },
   "outputs": [
    {
     "data": {
      "text/plain": [
       "[0]"
      ]
     },
     "execution_count": 7,
     "metadata": {},
     "output_type": "execute_result"
    }
   ],
   "source": [
    "fruits [0]\n",
    "fruits"
   ]
  },
  {
   "cell_type": "code",
   "execution_count": 43,
   "id": "c5e40903",
   "metadata": {},
   "outputs": [
    {
     "data": {
      "text/plain": [
       "['apple', 'banana', 'watermelon', 'pineapple']"
      ]
     },
     "execution_count": 43,
     "metadata": {},
     "output_type": "execute_result"
    }
   ],
   "source": [
    "fruitz = ['apple', 'banana', 'watermelon', 'pineapple']\n",
    "fruitz"
   ]
  },
  {
   "cell_type": "code",
   "execution_count": 44,
   "id": "7026decb",
   "metadata": {
    "scrolled": false
   },
   "outputs": [
    {
     "data": {
      "text/plain": [
       "'apple'"
      ]
     },
     "execution_count": 44,
     "metadata": {},
     "output_type": "execute_result"
    }
   ],
   "source": [
    "fruitz[0]"
   ]
  },
  {
   "cell_type": "code",
   "execution_count": 45,
   "id": "2e047b59",
   "metadata": {},
   "outputs": [
    {
     "data": {
      "text/plain": [
       "'banana'"
      ]
     },
     "execution_count": 45,
     "metadata": {},
     "output_type": "execute_result"
    }
   ],
   "source": [
    "fruitz[1]"
   ]
  },
  {
   "cell_type": "markdown",
   "id": "048d8541",
   "metadata": {},
   "source": [
    "# Dictionaries"
   ]
  },
  {
   "cell_type": "code",
   "execution_count": 1,
   "id": "4b6e3cc3",
   "metadata": {},
   "outputs": [],
   "source": [
    "state = {'ondo': 16, 'lagos': 17, 'abuja': 10, 'kano': 90}"
   ]
  },
  {
   "cell_type": "code",
   "execution_count": 2,
   "id": "82d6a14e",
   "metadata": {},
   "outputs": [
    {
     "data": {
      "text/plain": [
       "{'ondo': 16, 'lagos': 17, 'abuja': 10, 'kano': 90}"
      ]
     },
     "execution_count": 2,
     "metadata": {},
     "output_type": "execute_result"
    }
   ],
   "source": [
    "state"
   ]
  },
  {
   "cell_type": "code",
   "execution_count": 5,
   "id": "ed79b4b7",
   "metadata": {},
   "outputs": [
    {
     "data": {
      "text/plain": [
       "{'ondo': 16, 'lagos': 17, 'abuja': 10, 'kano': 90}"
      ]
     },
     "execution_count": 5,
     "metadata": {},
     "output_type": "execute_result"
    }
   ],
   "source": [
    "state "
   ]
  },
  {
   "cell_type": "code",
   "execution_count": 47,
   "id": "88f34d84",
   "metadata": {},
   "outputs": [
    {
     "data": {
      "text/plain": [
       "{'Blessing': 'Portharcourt',\n",
       " 'Aramide': 'Ibadan',\n",
       " 'Ayooluwa': 'Lagos',\n",
       " 'Belinda': 'Kenya'}"
      ]
     },
     "execution_count": 47,
     "metadata": {},
     "output_type": "execute_result"
    }
   ],
   "source": [
    "tech_ladies = {'Blessing': 'Portharcourt', 'Aramide':'Ibadan','Ayooluwa':'Lagos', 'Belinda':'Kenya'}\n",
    "tech_ladies "
   ]
  },
  {
   "cell_type": "code",
   "execution_count": 18,
   "id": "8b4a238d",
   "metadata": {
    "scrolled": true
   },
   "outputs": [
    {
     "data": {
      "text/plain": [
       "{'Blessing': 'Portharcourt', 'Aramide': 'Ibadan', 'Ayooluwa': 'Lagos'}"
      ]
     },
     "execution_count": 18,
     "metadata": {},
     "output_type": "execute_result"
    }
   ],
   "source": [
    "Techsters = {'Blessing':'Portharcourt', 'Aramide':'Ibadan', 'Ayooluwa':'Lagos'}\n",
    "Techsters"
   ]
  },
  {
   "cell_type": "code",
   "execution_count": null,
   "id": "ee7f69b2",
   "metadata": {},
   "outputs": [],
   "source": []
  },
  {
   "cell_type": "markdown",
   "id": "b6c32893",
   "metadata": {},
   "source": [
    "# Tuples"
   ]
  },
  {
   "cell_type": "code",
   "execution_count": 6,
   "id": "3f69af1d",
   "metadata": {},
   "outputs": [],
   "source": [
    "foods = ('rice', 'beans', 'indomie', 'abacha')"
   ]
  },
  {
   "cell_type": "code",
   "execution_count": 7,
   "id": "80406c95",
   "metadata": {},
   "outputs": [
    {
     "data": {
      "text/plain": [
       "('rice', 'beans', 'indomie', 'abacha')"
      ]
     },
     "execution_count": 7,
     "metadata": {},
     "output_type": "execute_result"
    }
   ],
   "source": [
    "foods "
   ]
  },
  {
   "cell_type": "markdown",
   "id": "313d28fa",
   "metadata": {},
   "source": [
    "# Boolean"
   ]
  },
  {
   "cell_type": "code",
   "execution_count": 8,
   "id": "2ffb7ce3",
   "metadata": {},
   "outputs": [
    {
     "data": {
      "text/plain": [
       "False"
      ]
     },
     "execution_count": 8,
     "metadata": {},
     "output_type": "execute_result"
    }
   ],
   "source": [
    "10==9"
   ]
  },
  {
   "cell_type": "code",
   "execution_count": 9,
   "id": "3dc91f8d",
   "metadata": {},
   "outputs": [
    {
     "data": {
      "text/plain": [
       "True"
      ]
     },
     "execution_count": 9,
     "metadata": {},
     "output_type": "execute_result"
    }
   ],
   "source": [
    "10==10"
   ]
  },
  {
   "cell_type": "markdown",
   "id": "1b844f31",
   "metadata": {},
   "source": [
    "# Printing"
   ]
  },
  {
   "cell_type": "code",
   "execution_count": 11,
   "id": "51fb270c",
   "metadata": {},
   "outputs": [
    {
     "name": "stdout",
     "output_type": "stream",
     "text": [
      "hello, blessing welcome!\n"
     ]
    }
   ],
   "source": [
    "print ('hello, blessing welcome!')"
   ]
  },
  {
   "cell_type": "markdown",
   "id": "285af8df",
   "metadata": {},
   "source": [
    "# Comments"
   ]
  },
  {
   "cell_type": "code",
   "execution_count": 13,
   "id": "d87d361c",
   "metadata": {},
   "outputs": [],
   "source": [
    "#Please remember to lock the door, Thanks!"
   ]
  },
  {
   "cell_type": "markdown",
   "id": "5b0055e8",
   "metadata": {},
   "source": [
    "# data types"
   ]
  },
  {
   "cell_type": "code",
   "execution_count": null,
   "id": "db12faea",
   "metadata": {},
   "outputs": [],
   "source": [
    "#numbers"
   ]
  },
  {
   "cell_type": "code",
   "execution_count": 8,
   "id": "5aaea2ee",
   "metadata": {},
   "outputs": [
    {
     "data": {
      "text/plain": [
       "2"
      ]
     },
     "execution_count": 8,
     "metadata": {},
     "output_type": "execute_result"
    }
   ],
   "source": [
    "1+1"
   ]
  },
  {
   "cell_type": "markdown",
   "id": "56e21656",
   "metadata": {},
   "source": [
    "# variables"
   ]
  },
  {
   "cell_type": "code",
   "execution_count": null,
   "id": "8277fe8c",
   "metadata": {},
   "outputs": [],
   "source": [
    "names = 'blessing Anekwe'"
   ]
  },
  {
   "cell_type": "code",
   "execution_count": 11,
   "id": "9d77c41e",
   "metadata": {},
   "outputs": [
    {
     "data": {
      "text/plain": [
       "15"
      ]
     },
     "execution_count": 11,
     "metadata": {},
     "output_type": "execute_result"
    }
   ],
   "source": [
    "x = 5\n",
    "y = 10\n",
    "answer = x+y\n",
    "answer"
   ]
  },
  {
   "cell_type": "markdown",
   "id": "fe96d60a",
   "metadata": {},
   "source": [
    "# strings"
   ]
  },
  {
   "cell_type": "code",
   "execution_count": 10,
   "id": "1eb86221",
   "metadata": {
    "scrolled": true
   },
   "outputs": [
    {
     "data": {
      "text/plain": [
       "'wraps of other quotes'"
      ]
     },
     "execution_count": 10,
     "metadata": {},
     "output_type": "execute_result"
    }
   ],
   "source": [
    "'single quotes'\n",
    "\"double quotes\"\n",
    "\"wraps of other quotes\""
   ]
  },
  {
   "cell_type": "code",
   "execution_count": 12,
   "id": "66e154fa",
   "metadata": {},
   "outputs": [
    {
     "data": {
      "text/plain": [
       "'solajohn'"
      ]
     },
     "execution_count": 12,
     "metadata": {},
     "output_type": "execute_result"
    }
   ],
   "source": [
    "'sola' + 'john'"
   ]
  },
  {
   "cell_type": "code",
   "execution_count": null,
   "id": "7515c0e2",
   "metadata": {},
   "outputs": [],
   "source": [
    "#write a script to merge two dictionaries"
   ]
  },
  {
   "cell_type": "code",
   "execution_count": 33,
   "id": "d732e2e4",
   "metadata": {},
   "outputs": [
    {
     "name": "stdout",
     "output_type": "stream",
     "text": [
      "{'ayomide': 200, 'ngozi': 100, 'gerald': 300, 'blessing': 400, 'beatrice': 400, 'augusta': 500}\n"
     ]
    }
   ],
   "source": [
    "room1 = {'ayomide':200, 'ngozi':100, 'gerald':300}\n",
    "room2 = {'blessing':400, 'beatrice':400,'augusta':500}\n",
    "room4 = {**room1, **room2}\n",
    "print(room4)\n"
   ]
  },
  {
   "cell_type": "code",
   "execution_count": 22,
   "id": "5493d8ef",
   "metadata": {},
   "outputs": [
    {
     "data": {
      "text/plain": [
       "True"
      ]
     },
     "execution_count": 22,
     "metadata": {},
     "output_type": "execute_result"
    }
   ],
   "source": [
    "2==2"
   ]
  },
  {
   "cell_type": "code",
   "execution_count": 23,
   "id": "34c5cf85",
   "metadata": {},
   "outputs": [
    {
     "data": {
      "text/plain": [
       "True"
      ]
     },
     "execution_count": 23,
     "metadata": {},
     "output_type": "execute_result"
    }
   ],
   "source": [
    "1>=1"
   ]
  },
  {
   "cell_type": "code",
   "execution_count": 24,
   "id": "9e049c91",
   "metadata": {},
   "outputs": [
    {
     "name": "stdout",
     "output_type": "stream",
     "text": [
      "False\n"
     ]
    }
   ],
   "source": [
    "print(6>10)"
   ]
  },
  {
   "cell_type": "markdown",
   "id": "b7bae0a5",
   "metadata": {},
   "source": [
    "# logic operators"
   ]
  },
  {
   "cell_type": "code",
   "execution_count": null,
   "id": "08302b73",
   "metadata": {},
   "outputs": [],
   "source": [
    "#(And,or,not)"
   ]
  },
  {
   "cell_type": "code",
   "execution_count": 25,
   "id": "1ba47bf4",
   "metadata": {},
   "outputs": [
    {
     "data": {
      "text/plain": [
       "True"
      ]
     },
     "execution_count": 25,
     "metadata": {},
     "output_type": "execute_result"
    }
   ],
   "source": [
    "(200>100) and (50>15)"
   ]
  },
  {
   "cell_type": "code",
   "execution_count": 26,
   "id": "4c4d2bad",
   "metadata": {},
   "outputs": [
    {
     "data": {
      "text/plain": [
       "False"
      ]
     },
     "execution_count": 26,
     "metadata": {},
     "output_type": "execute_result"
    }
   ],
   "source": [
    "(50>=90)or (120==58)"
   ]
  },
  {
   "cell_type": "markdown",
   "id": "11e1ce8e",
   "metadata": {},
   "source": [
    "* Write a Python program to create a tuple with numbers and print one item\n",
    "*  Write a Python program to create a tuple\n",
    "*  Write a Python program to convert a tuple to a string\n",
    "* Write a Python script to add a key to a dictionary.\n",
    "* Write a Python script to merge two Python dictionaries\n",
    "* Write a Python program to sum all the items in a dictionary."
   ]
  },
  {
   "cell_type": "code",
   "execution_count": 49,
   "id": "e002fa1e",
   "metadata": {},
   "outputs": [
    {
     "data": {
      "text/plain": [
       "400"
      ]
     },
     "execution_count": 49,
     "metadata": {},
     "output_type": "execute_result"
    }
   ],
   "source": [
    "#Write a Python program to create a tuple with numbers and print one item\n",
    "blessing_numbers = (100,200,300,400,500)\n",
    "blessing_numbers[3]"
   ]
  },
  {
   "cell_type": "code",
   "execution_count": 50,
   "id": "bd85c781",
   "metadata": {},
   "outputs": [],
   "source": [
    "\n",
    "den = list(blessing_numbers)"
   ]
  },
  {
   "cell_type": "code",
   "execution_count": 51,
   "id": "3352aa7e",
   "metadata": {},
   "outputs": [
    {
     "data": {
      "text/plain": [
       "list"
      ]
     },
     "execution_count": 51,
     "metadata": {},
     "output_type": "execute_result"
    }
   ],
   "source": [
    "type(den)"
   ]
  },
  {
   "cell_type": "code",
   "execution_count": 59,
   "id": "17ddba4a",
   "metadata": {},
   "outputs": [
    {
     "data": {
      "text/plain": [
       "('car', '3500', 'bicycle', '4500')"
      ]
     },
     "execution_count": 59,
     "metadata": {},
     "output_type": "execute_result"
    }
   ],
   "source": [
    "#Write a Python program to create a tuple\n",
    "mytuple= tuple(('car','3500','bicycle','4500'))\n",
    "mytuple"
   ]
  },
  {
   "cell_type": "code",
   "execution_count": 58,
   "id": "0ff2f9e5",
   "metadata": {},
   "outputs": [
    {
     "data": {
      "text/plain": [
       "(1,)"
      ]
     },
     "execution_count": 58,
     "metadata": {},
     "output_type": "execute_result"
    }
   ],
   "source": [
    "tuple((1,))"
   ]
  },
  {
   "cell_type": "code",
   "execution_count": 61,
   "id": "bb285d35",
   "metadata": {},
   "outputs": [
    {
     "data": {
      "text/plain": [
       "\"('car', '3500', 'bicycle', '4500')\""
      ]
     },
     "execution_count": 61,
     "metadata": {},
     "output_type": "execute_result"
    }
   ],
   "source": [
    "#Write a Python program to convert a tuple to a string\n",
    "tupletostr = str(mytuple)\n",
    "tupletostr"
   ]
  },
  {
   "cell_type": "code",
   "execution_count": 66,
   "id": "0239139d",
   "metadata": {},
   "outputs": [
    {
     "data": {
      "text/plain": [
       "{'louis': 'vianna', 'divine': '2500', 'promise': 'fivestar', 'gabby': '4600'}"
      ]
     },
     "execution_count": 66,
     "metadata": {},
     "output_type": "execute_result"
    }
   ],
   "source": [
    "#Write a Python script to add a key to a dictionary\n",
    "dict = {'louis': 'vianna',   'divine':'2500',   'promise':'fivestar',   'gabby':'4600'}\n",
    "dict"
   ]
  },
  {
   "cell_type": "code",
   "execution_count": 70,
   "id": "4d83d996",
   "metadata": {},
   "outputs": [
    {
     "data": {
      "text/plain": [
       "{'ade': 1, 'don': 2, 'jane': 3, 'ken': 4}"
      ]
     },
     "execution_count": 70,
     "metadata": {},
     "output_type": "execute_result"
    }
   ],
   "source": [
    "#Write a Python script to merge two Python dictionaries\n",
    "house1 = {'ade':1,'don':2,'jane':3,'ken':4}\n",
    "house2 = {'nkechi':'london','mary':'canada','mike':'astralia'}\n",
    "house3= house1.copy()\n",
    "house3"
   ]
  },
  {
   "cell_type": "code",
   "execution_count": 72,
   "id": "54113804",
   "metadata": {},
   "outputs": [
    {
     "data": {
      "text/plain": [
       "{'ade': 1,\n",
       " 'don': 2,\n",
       " 'jane': 3,\n",
       " 'ken': 4,\n",
       " 'nkechi': 'london',\n",
       " 'mary': 'canada',\n",
       " 'mike': 'astralia'}"
      ]
     },
     "execution_count": 72,
     "metadata": {},
     "output_type": "execute_result"
    }
   ],
   "source": [
    "house3.update(house2)\n",
    "house3"
   ]
  },
  {
   "cell_type": "code",
   "execution_count": 85,
   "id": "a2ec2c9f",
   "metadata": {},
   "outputs": [
    {
     "data": {
      "text/plain": [
       "{'nkechi': 'london',\n",
       " 'mary': 'canada',\n",
       " 'mike': 'astralia',\n",
       " 'ade': 1,\n",
       " 'don': 2,\n",
       " 'jane': 3,\n",
       " 'ken': 4}"
      ]
     },
     "execution_count": 85,
     "metadata": {},
     "output_type": "execute_result"
    }
   ],
   "source": [
    "house4 = house2.copy()\n",
    "house4.update(house1)\n",
    "house4"
   ]
  },
  {
   "cell_type": "code",
   "execution_count": 89,
   "id": "0eed3b73",
   "metadata": {},
   "outputs": [
    {
     "data": {
      "text/plain": [
       "10"
      ]
     },
     "execution_count": 89,
     "metadata": {},
     "output_type": "execute_result"
    }
   ],
   "source": [
    "#Write a Python program to sum all the items in a dictionary.\n",
    "house5 = {'ade':1,'don':2,'jane':3,'ken':4}\n",
    "sum(house5.values())"
   ]
  },
  {
   "cell_type": "code",
   "execution_count": 1,
   "id": "f069736c",
   "metadata": {},
   "outputs": [
    {
     "name": "stdout",
     "output_type": "stream",
     "text": [
      "True\n",
      "True\n"
     ]
    }
   ],
   "source": [
    "set1 = {10, 20, 30, 40, 50} \n",
    "set2 = {60, 70, 10, 30, 40, 80, 20, 50} \n",
    "\n",
    "print(set1.issubset(set2)) \n",
    "print(set2.issuperset(set1))\n"
   ]
  },
  {
   "cell_type": "code",
   "execution_count": 2,
   "id": "705077e8",
   "metadata": {},
   "outputs": [
    {
     "name": "stdout",
     "output_type": "stream",
     "text": [
      "6\n"
     ]
    }
   ],
   "source": [
    "str1 = \"my isname isisis jameis isis bond\"; \n",
    "sub = \"is\"; \n",
    "print(str1.count(sub, 4))"
   ]
  },
  {
   "cell_type": "code",
   "execution_count": 3,
   "id": "c6f69c03",
   "metadata": {},
   "outputs": [
    {
     "name": "stdout",
     "output_type": "stream",
     "text": [
      "[25, 10]\n"
     ]
    }
   ],
   "source": [
    "aList = [5, 10, 15, 25] \n",
    "print(aList[::-2])"
   ]
  },
  {
   "cell_type": "code",
   "execution_count": null,
   "id": "b7279495",
   "metadata": {},
   "outputs": [],
   "source": []
  }
 ],
 "metadata": {
  "kernelspec": {
   "display_name": "Python 3 (ipykernel)",
   "language": "python",
   "name": "python3"
  },
  "language_info": {
   "codemirror_mode": {
    "name": "ipython",
    "version": 3
   },
   "file_extension": ".py",
   "mimetype": "text/x-python",
   "name": "python",
   "nbconvert_exporter": "python",
   "pygments_lexer": "ipython3",
   "version": "3.9.12"
  }
 },
 "nbformat": 4,
 "nbformat_minor": 5
}
